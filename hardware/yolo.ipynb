{
 "cells": [
  {
   "cell_type": "code",
   "execution_count": 9,
   "metadata": {},
   "outputs": [
    {
     "name": "stdout",
     "output_type": "stream",
     "text": [
      "[0 0 2 0 1 2 1 2 1 0]\n",
      "[0 1 0]\n",
      "cpu does convolution in 0.001 seconds\n"
     ]
    },
    {
     "ename": "KeyboardInterrupt",
     "evalue": "",
     "output_type": "error",
     "traceback": [
      "\u001b[0;31m---------------------------------------------------------------------------\u001b[0m",
      "\u001b[0;31mKeyboardInterrupt\u001b[0m                         Traceback (most recent call last)",
      "\u001b[0;32m<ipython-input-9-ab6d57bb863d>\u001b[0m in \u001b[0;36m<module>\u001b[0;34m()\u001b[0m\n\u001b[1;32m     47\u001b[0m \u001b[0mdma_fromPL\u001b[0m\u001b[0;34m.\u001b[0m\u001b[0mrecvchannel\u001b[0m\u001b[0;34m.\u001b[0m\u001b[0mtransfer\u001b[0m\u001b[0;34m(\u001b[0m\u001b[0mpynq_res\u001b[0m\u001b[0;34m)\u001b[0m\u001b[0;34m\u001b[0m\u001b[0m\n\u001b[1;32m     48\u001b[0m \u001b[0mdma_toPL\u001b[0m\u001b[0;34m.\u001b[0m\u001b[0msendchannel\u001b[0m\u001b[0;34m.\u001b[0m\u001b[0mwait\u001b[0m\u001b[0;34m(\u001b[0m\u001b[0;34m)\u001b[0m\u001b[0;34m\u001b[0m\u001b[0m\n\u001b[0;32m---> 49\u001b[0;31m \u001b[0mdma_fromPL\u001b[0m\u001b[0;34m.\u001b[0m\u001b[0mrecvchannel\u001b[0m\u001b[0;34m.\u001b[0m\u001b[0mwait\u001b[0m\u001b[0;34m(\u001b[0m\u001b[0;34m)\u001b[0m\u001b[0;34m\u001b[0m\u001b[0m\n\u001b[0m\u001b[1;32m     50\u001b[0m \u001b[0mpltime\u001b[0m \u001b[0;34m=\u001b[0m \u001b[0mtime\u001b[0m\u001b[0;34m.\u001b[0m\u001b[0mtime\u001b[0m\u001b[0;34m(\u001b[0m\u001b[0;34m)\u001b[0m\u001b[0;34m-\u001b[0m\u001b[0mstart_time\u001b[0m\u001b[0;34m\u001b[0m\u001b[0m\n\u001b[1;32m     51\u001b[0m \u001b[0mprint\u001b[0m\u001b[0;34m(\u001b[0m\u001b[0;34m\"programmable logic does convolution in in %.3f seconds\"\u001b[0m\u001b[0;34m%\u001b[0m\u001b[0mpltime\u001b[0m\u001b[0;34m)\u001b[0m\u001b[0;34m\u001b[0m\u001b[0m\n",
      "\u001b[0;32m/usr/local/lib/python3.6/dist-packages/pynq/lib/dma.py\u001b[0m in \u001b[0;36mwait\u001b[0;34m(self)\u001b[0m\n\u001b[1;32m    134\u001b[0m         \u001b[0;32mif\u001b[0m \u001b[0;32mnot\u001b[0m \u001b[0mself\u001b[0m\u001b[0;34m.\u001b[0m\u001b[0mrunning\u001b[0m\u001b[0;34m:\u001b[0m\u001b[0;34m\u001b[0m\u001b[0m\n\u001b[1;32m    135\u001b[0m             \u001b[0;32mraise\u001b[0m \u001b[0mRuntimeError\u001b[0m\u001b[0;34m(\u001b[0m\u001b[0;34m'DMA channel not started'\u001b[0m\u001b[0;34m)\u001b[0m\u001b[0;34m\u001b[0m\u001b[0m\n\u001b[0;32m--> 136\u001b[0;31m         \u001b[0;32mwhile\u001b[0m \u001b[0;32mnot\u001b[0m \u001b[0mself\u001b[0m\u001b[0;34m.\u001b[0m\u001b[0midle\u001b[0m\u001b[0;34m:\u001b[0m\u001b[0;34m\u001b[0m\u001b[0m\n\u001b[0m\u001b[1;32m    137\u001b[0m             \u001b[0;32mpass\u001b[0m\u001b[0;34m\u001b[0m\u001b[0m\n\u001b[1;32m    138\u001b[0m         \u001b[0;32mif\u001b[0m \u001b[0;32mnot\u001b[0m \u001b[0mself\u001b[0m\u001b[0;34m.\u001b[0m\u001b[0m_flush_before\u001b[0m\u001b[0;34m:\u001b[0m\u001b[0;34m\u001b[0m\u001b[0m\n",
      "\u001b[0;32m/usr/local/lib/python3.6/dist-packages/pynq/lib/dma.py\u001b[0m in \u001b[0;36midle\u001b[0;34m(self)\u001b[0m\n\u001b[1;32m     70\u001b[0m         \u001b[0;32mreturn\u001b[0m \u001b[0mself\u001b[0m\u001b[0;34m.\u001b[0m\u001b[0m_mmio\u001b[0m\u001b[0;34m.\u001b[0m\u001b[0mread\u001b[0m\u001b[0;34m(\u001b[0m\u001b[0mself\u001b[0m\u001b[0;34m.\u001b[0m\u001b[0m_offset\u001b[0m \u001b[0;34m+\u001b[0m \u001b[0;36m4\u001b[0m\u001b[0;34m)\u001b[0m \u001b[0;34m&\u001b[0m \u001b[0;36m0x01\u001b[0m \u001b[0;34m==\u001b[0m \u001b[0;36m0x00\u001b[0m\u001b[0;34m\u001b[0m\u001b[0m\n\u001b[1;32m     71\u001b[0m \u001b[0;34m\u001b[0m\u001b[0m\n\u001b[0;32m---> 72\u001b[0;31m     \u001b[0;34m@\u001b[0m\u001b[0mproperty\u001b[0m\u001b[0;34m\u001b[0m\u001b[0m\n\u001b[0m\u001b[1;32m     73\u001b[0m     \u001b[0;32mdef\u001b[0m \u001b[0midle\u001b[0m\u001b[0;34m(\u001b[0m\u001b[0mself\u001b[0m\u001b[0;34m)\u001b[0m\u001b[0;34m:\u001b[0m\u001b[0;34m\u001b[0m\u001b[0m\n\u001b[1;32m     74\u001b[0m         \"\"\"True if the DMA engine is idle\n",
      "\u001b[0;31mKeyboardInterrupt\u001b[0m: "
     ]
    }
   ],
   "source": [
    "#use a pynq overlay to compute a 1-D convolution.  The overlay convolves any filter of length 1 to 255\n",
    "#to substrate data of any length.  This is beyond what the hw question asked for; I pushed the problem\n",
    "#scope just so I could show a maximum speed advantage over CPU execution. \n",
    "\n",
    "import numpy as np\n",
    "import pynq\n",
    "import time\n",
    "\n",
    "overlay = pynq.Overlay(\"test.bit\")\n",
    "#overlay?\n",
    "dma_toPL = overlay.axi_dma_from_ps_to_pl\n",
    "dma_fromPL = overlay.axi_dma_from_pl_to_ps\n",
    "\n",
    "#generate random data\n",
    "n1 = 10 #process 5 million random numbers\n",
    "data1 = np.random.randint(low=0, high=3, size=[n1], dtype=np.uint16) #conv substrate\n",
    "#data1 = np.array([1,3]).astype(np.uint16)\n",
    "n2 = 3\n",
    "data2 = np.random.randint(low=0, high=3, size=[n2], dtype=np.uint16) #conv filter\n",
    "#data2 = np.array([2,4]).astype(np.uint16)\n",
    "    \n",
    "#set up PYNQ data arrays (can be used as numpy arrays, but include physical memory addresses for DMA access)\n",
    "pynq_data1 = pynq.allocate(shape=(n1,), dtype=np.uint16)\n",
    "pynq_data2 = pynq.allocate(shape=(n2,), dtype=np.uint16)\n",
    "pynq_res = pynq.allocate(shape=(n1+n2-1), dtype=np.uint16)\n",
    "np.copyto(pynq_data1, data1)#copy numpy-generated data to pynq arrays\n",
    "np.copyto(pynq_data2, data2)\n",
    "print(pynq_data1)\n",
    "print(pynq_data2)\n",
    "data2 = np.flip(data2, axis=0)#overlay convolution does not flip filter - instead, flip numpy filter for cpu convolve\n",
    "\n",
    "#see how long it takes CPU processing to do operation\n",
    "start_time = time.time()\n",
    "cpu_res = np.convolve(data1, data2)\n",
    "cputime = time.time() - start_time\n",
    "print(\"cpu does convolution in %.3f seconds\"%cputime)\n",
    "\n",
    "#execute and time operation in programmable logic\n",
    "start_time = time.time()\n",
    "\n",
    "#send filter: overlay is designed to first recieve the relatively short filter, then recive relatively long data\n",
    "dma_toPL.sendchannel.transfer(pynq_data2)\n",
    "dma_toPL.sendchannel.wait()\n",
    "\n",
    "#send data and start waiting for results:\n",
    "dma_toPL.sendchannel.transfer(pynq_data1)\n",
    "dma_fromPL.recvchannel.transfer(pynq_res)\n",
    "dma_toPL.sendchannel.wait()\n",
    "dma_fromPL.recvchannel.wait()\n",
    "pltime = time.time()-start_time\n",
    "print(\"programmable logic does convolution in in %.3f seconds\"%pltime)\n",
    "print(\"PL is up to %.2f times faster than snickerdoodle cpu execution\"%(cputime/pltime))\n",
    "print(\"Difference between cpu and pl results should be zero: %i \\n\" % np.sum(pynq_res-cpu_res))\n",
    "\n",
    "print(\"\\n\\nvisual inspection of numpy filter:\")\n",
    "print(data2)\n",
    "print(\"visual inspection of pynq filter:\")\n",
    "print(pynq_data2)\n",
    "print(\"visual inspection of source data:\")\n",
    "print(data1[0:25])\n",
    "# print(\"visual inspection of numpy result:\")\n",
    "# print(cpu_res[0:15])\n",
    "print(\"visual inspection of pl result:\")\n",
    "print(pynq_res)\n"
   ]
  },
  {
   "cell_type": "code",
   "execution_count": null,
   "metadata": {},
   "outputs": [],
   "source": [
    "from scipy import signal\n",
    "n1=5\n",
    "n2=3\n",
    "in1 = np.random.randint(low=0, high=2, size=[n1,n1], dtype=np.uint16) #conv substrate\n",
    "in2 = np.random.randint(low=0, high=2, size=[n2,n2], dtype=np.uint16) #conv filter\n",
    "result = signal.convolve2d(in1, in2, mode='same')\n",
    "\n",
    "print(in1)\n",
    "print(in2)\n",
    "print(result)"
   ]
  },
  {
   "cell_type": "code",
   "execution_count": 11,
   "metadata": {},
   "outputs": [
    {
     "name": "stdout",
     "output_type": "stream",
     "text": [
      "Original \n",
      " [[1 0 0 1 0]\n",
      " [0 1 1 0 1]\n",
      " [0 0 1 1 0]\n",
      " [0 1 1 1 1]\n",
      " [0 1 0 1 0]]\n",
      "Transpose \n",
      " [[1 0 0 0 0]\n",
      " [0 1 0 1 1]\n",
      " [0 1 1 1 0]\n",
      " [1 0 1 1 1]\n",
      " [0 1 0 1 0]]\n",
      "Transpose and flatten \n",
      " [1 0 0 0 0 0 1 0 1 1 0 1 1 1 0 1 0 1 1 1 0 1 0 1 0]\n"
     ]
    },
    {
     "data": {
      "text/plain": [
       "array([0, 0, 0, 1, 0, 1, 1, 1, 1, 0, 1, 1, 1, 0, 1], dtype=int16)"
      ]
     },
     "execution_count": 11,
     "metadata": {},
     "output_type": "execute_result"
    }
   ],
   "source": [
    "data1 = np.array([[1,0,0,1,0], [0,1,1,0,1],[0,0,1,1,0],[0,1,1,1,1],[0,1,0,1,0]]).astype(np.int16)\n",
    "print('Original \\n', data1)\n",
    "print('Transpose \\n', data1.T)\n",
    "print('Transpose and flatten \\n', data1.T.flatten())\n",
    "data1[1:1+3, :].T.flatten()"
   ]
  },
  {
   "cell_type": "code",
   "execution_count": 8,
   "metadata": {},
   "outputs": [
    {
     "name": "stdout",
     "output_type": "stream",
     "text": [
      "5\n",
      "[0 0 0 0 1 0 0 0 1 0 0 1 0 1 0 0 0 1 0 0 0]\n",
      "[0 0 1 1 1 1 1 0 0]\n",
      "cpu does convolution in 0.002 seconds\n"
     ]
    },
    {
     "ename": "RuntimeError",
     "evalue": "DMA channel not started",
     "output_type": "error",
     "traceback": [
      "\u001b[0;31m---------------------------------------------------------------------------\u001b[0m",
      "\u001b[0;31mRuntimeError\u001b[0m                              Traceback (most recent call last)",
      "\u001b[0;32m<ipython-input-8-6de988132cff>\u001b[0m in \u001b[0;36m<module>\u001b[0;34m()\u001b[0m\n\u001b[1;32m     74\u001b[0m \u001b[0mdma_fromPL\u001b[0m\u001b[0;34m.\u001b[0m\u001b[0mrecvchannel\u001b[0m\u001b[0;34m.\u001b[0m\u001b[0mtransfer\u001b[0m\u001b[0;34m(\u001b[0m\u001b[0mpynq_res\u001b[0m\u001b[0;34m)\u001b[0m\u001b[0;34m\u001b[0m\u001b[0m\n\u001b[1;32m     75\u001b[0m \u001b[0mdma_toPL\u001b[0m\u001b[0;34m.\u001b[0m\u001b[0msendchannel\u001b[0m\u001b[0;34m.\u001b[0m\u001b[0mwait\u001b[0m\u001b[0;34m(\u001b[0m\u001b[0;34m)\u001b[0m\u001b[0;34m\u001b[0m\u001b[0m\n\u001b[0;32m---> 76\u001b[0;31m \u001b[0mdma_fromPL\u001b[0m\u001b[0;34m.\u001b[0m\u001b[0mrecvchannel\u001b[0m\u001b[0;34m.\u001b[0m\u001b[0mwait\u001b[0m\u001b[0;34m(\u001b[0m\u001b[0;34m)\u001b[0m\u001b[0;34m\u001b[0m\u001b[0m\n\u001b[0m\u001b[1;32m     77\u001b[0m \u001b[0mpltime\u001b[0m \u001b[0;34m=\u001b[0m \u001b[0mtime\u001b[0m\u001b[0;34m.\u001b[0m\u001b[0mtime\u001b[0m\u001b[0;34m(\u001b[0m\u001b[0;34m)\u001b[0m\u001b[0;34m-\u001b[0m\u001b[0mstart_time\u001b[0m\u001b[0;34m\u001b[0m\u001b[0m\n\u001b[1;32m     78\u001b[0m \u001b[0mprint\u001b[0m\u001b[0;34m(\u001b[0m\u001b[0;34m\"programmable logic does convolution in in %.3f seconds\"\u001b[0m\u001b[0;34m%\u001b[0m\u001b[0mpltime\u001b[0m\u001b[0;34m)\u001b[0m\u001b[0;34m\u001b[0m\u001b[0m\n",
      "\u001b[0;32m/usr/local/lib/python3.6/dist-packages/pynq/lib/dma.py\u001b[0m in \u001b[0;36mwait\u001b[0;34m(self)\u001b[0m\n\u001b[1;32m    133\u001b[0m         \"\"\"\n\u001b[1;32m    134\u001b[0m         \u001b[0;32mif\u001b[0m \u001b[0;32mnot\u001b[0m \u001b[0mself\u001b[0m\u001b[0;34m.\u001b[0m\u001b[0mrunning\u001b[0m\u001b[0;34m:\u001b[0m\u001b[0;34m\u001b[0m\u001b[0m\n\u001b[0;32m--> 135\u001b[0;31m             \u001b[0;32mraise\u001b[0m \u001b[0mRuntimeError\u001b[0m\u001b[0;34m(\u001b[0m\u001b[0;34m'DMA channel not started'\u001b[0m\u001b[0;34m)\u001b[0m\u001b[0;34m\u001b[0m\u001b[0m\n\u001b[0m\u001b[1;32m    136\u001b[0m         \u001b[0;32mwhile\u001b[0m \u001b[0;32mnot\u001b[0m \u001b[0mself\u001b[0m\u001b[0;34m.\u001b[0m\u001b[0midle\u001b[0m\u001b[0;34m:\u001b[0m\u001b[0;34m\u001b[0m\u001b[0m\n\u001b[1;32m    137\u001b[0m             \u001b[0;32mpass\u001b[0m\u001b[0;34m\u001b[0m\u001b[0m\n",
      "\u001b[0;31mRuntimeError\u001b[0m: DMA channel not started"
     ]
    }
   ],
   "source": [
    "#use a pynq overlay to compute a 1-D convolution.  The overlay convolves any filter of length 1 to 255\n",
    "#to substrate data of any length.  This is beyond what the hw question asked for; I pushed the problem\n",
    "#scope just so I could show a maximum speed advantage over CPU execution. \n",
    "\n",
    "import numpy as np\n",
    "import pynq\n",
    "import time\n",
    "\n",
    "from scipy import signal\n",
    "\n",
    "def filter_reshape(arr):\n",
    "    return arr.flatten()\n",
    "\n",
    "def data_preprocessing(data):\n",
    "    shape = data.shape\n",
    "    # TODO: change for 3D array\n",
    "    padded = np.zeros(tuple(np.add(shape,(2,2))), dtype=np.uint16)\n",
    "    padded[1:-1, 1:-1] = data\n",
    "    return padded\n",
    "\n",
    "def data_reshape(data, start_row):\n",
    "    return data1[start_row:start_row+3, :].T.flatten()\n",
    "\n",
    "overlay = pynq.Overlay(\"test.bit\")\n",
    "#overlay?\n",
    "dma_toPL = overlay.axi_dma_from_ps_to_pl\n",
    "dma_fromPL = overlay.axi_dma_from_pl_to_ps\n",
    "\n",
    "#generate random data\n",
    "# n1 = 10 #process 5 million random numbers\n",
    "# data1 = np.random.randint(low=0, high=3, size=[n1], dtype=np.uint16) #conv substrate\n",
    "# #data1 = np.array([1,3]).astype(np.uint16)\n",
    "n2 = 3\n",
    "# data2 = np.random.randint(low=0, high=3, size=[n2], dtype=np.uint16) #conv filter\n",
    "# #data2 = np.array([2,4]).astype(np.uint16)\n",
    "    \n",
    "data2_orig = np.array([[0,0,1], [1,1,1],[1,0,0]]).astype(np.uint16)\n",
    "data1_orig = np.array([[1,0,0,1,0], [0,1,1,0,1],[0,0,1,1,0],[0,1,1,1,1],[0,1,0,1,0]]).astype(np.int16)\n",
    "    \n",
    "# preprocessing and reshape\n",
    "data2 = filter_reshape(data2_orig)\n",
    "data1 = data_preprocessing(data1_orig)\n",
    "data1 = data_reshape(data1, 0)\n",
    "\n",
    "data_cols = data1_orig.shape[1] + 2 # 2 for padding\n",
    "print(data_cols-2)\n",
    "\n",
    "#set up PYNQ data arrays (can be used as numpy arrays, but include physical memory addresses for DMA access)\n",
    "pynq_data1 = pynq.allocate(shape=(data_cols*3,), dtype=np.uint16)\n",
    "pynq_data2 = pynq.allocate(shape=(n2*n2,), dtype=np.uint16)\n",
    "pynq_res = pynq.allocate(shape=(data_cols-2,), dtype=np.uint16)\n",
    "np.copyto(pynq_data1, data1)#copy numpy-generated data to pynq arrays\n",
    "np.copyto(pynq_data2, data2)\n",
    "print(pynq_data1)\n",
    "print(pynq_data2)\n",
    "data2 = np.flip(data2, axis=0)#overlay convolution does not flip filter - instead, flip numpy filter for cpu convolve\n",
    "\n",
    "#see how long it takes CPU processing to do operation\n",
    "start_time = time.time()\n",
    "cpu_res = signal.convolve2d(data1_orig, data2_orig, mode='same')\n",
    "cpu_res = cpu_res[:3].T.flatten()\n",
    "cputime = time.time() - start_time\n",
    "print(\"cpu does convolution in %.3f seconds\"%cputime)\n",
    "\n",
    "#execute and time operation in programmable logic\n",
    "start_time = time.time()\n",
    "\n",
    "#send filter: overlay is designed to first recieve the relatively short filter, then recive relatively long data\n",
    "dma_toPL.sendchannel.transfer(pynq_data2)\n",
    "dma_toPL.sendchannel.wait()\n",
    "\n",
    "#send data and start waiting for results:\n",
    "dma_toPL.sendchannel.transfer(pynq_data1)\n",
    "dma_fromPL.recvchannel.transfer(pynq_res)\n",
    "dma_toPL.sendchannel.wait()\n",
    "dma_fromPL.recvchannel.wait()\n",
    "pltime = time.time()-start_time\n",
    "print(\"programmable logic does convolution in in %.3f seconds\"%pltime)\n",
    "print(\"PL is up to %.2f times faster than snickerdoodle cpu execution\"%(cputime/pltime))\n",
    "print(\"Difference between cpu and pl results should be zero: %i \\n\" % np.sum(pynq_res-cpu_res))\n",
    "\n",
    "print(\"\\n\\nvisual inspection of numpy filter:\")\n",
    "print(data2)\n",
    "print(\"visual inspection of pynq filter:\")\n",
    "print(pynq_data2)\n",
    "print(\"visual inspection of source data:\")\n",
    "print(data1[0:25])\n",
    "# print(\"visual inspection of numpy result:\")\n",
    "# print(cpu_res[0:15])\n",
    "print(\"visual inspection of pl result:\")\n",
    "print(pynq_res)\n"
   ]
  },
  {
   "cell_type": "code",
   "execution_count": null,
   "metadata": {},
   "outputs": [],
   "source": []
  }
 ],
 "metadata": {
  "kernelspec": {
   "display_name": "Python 3",
   "language": "python",
   "name": "python3"
  },
  "language_info": {
   "codemirror_mode": {
    "name": "ipython",
    "version": 3
   },
   "file_extension": ".py",
   "mimetype": "text/x-python",
   "name": "python",
   "nbconvert_exporter": "python",
   "pygments_lexer": "ipython3",
   "version": "3.6.5"
  }
 },
 "nbformat": 4,
 "nbformat_minor": 2
}
